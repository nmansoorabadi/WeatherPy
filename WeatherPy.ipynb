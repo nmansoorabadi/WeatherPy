{
 "cells": [
  {
   "cell_type": "markdown",
   "metadata": {},
   "source": [
    "# WeatherPy\n",
    "----\n",
    "\n",
    "#### Note\n",
    "* Instructions have been included for each segment. You do not have to follow them exactly, but they are included to help you think through the steps."
   ]
  },
  {
   "cell_type": "code",
   "execution_count": 1,
   "metadata": {
    "scrolled": true
   },
   "outputs": [],
   "source": [
    "# Dependencies and Setup\n",
    "import matplotlib.pyplot as plt\n",
    "import pandas as pd\n",
    "import numpy as np\n",
    "import requests\n",
    "import time\n",
    "import json\n",
    "from pprint import pprint\n",
    "import os\n",
    "\n",
    "\n",
    "\n",
    "# Import API key\n",
    "from api_keys import api_key\n",
    "\n",
    "# Incorporated citipy to determine city based on latitude and longitude\n",
    "from citipy import citipy\n",
    "\n",
    "# Output File (CSV)\n",
    "output_data_file = \"output_data/cities.csv\"\n",
    "\n",
    "# Range of latitudes and longitudes\n",
    "lat_range = (-90, 90)\n",
    "lng_range = (-180, 180)"
   ]
  },
  {
   "cell_type": "code",
   "execution_count": null,
   "metadata": {},
   "outputs": [],
   "source": []
  },
  {
   "cell_type": "markdown",
   "metadata": {},
   "source": [
    "## Generate Cities List"
   ]
  },
  {
   "cell_type": "code",
   "execution_count": 2,
   "metadata": {},
   "outputs": [
    {
     "data": {
      "text/plain": [
       "619"
      ]
     },
     "execution_count": 2,
     "metadata": {},
     "output_type": "execute_result"
    }
   ],
   "source": [
    "# List for holding lat_lngs and cities\n",
    "lat_lngs = []\n",
    "cities = []\n",
    "\n",
    "# Create a set of random lat and lng combinations\n",
    "lats = np.random.uniform(low=-90.000, high=90.000, size=1500)\n",
    "lngs = np.random.uniform(low=-180.000, high=180.000, size=1500)\n",
    "lat_lngs = zip(lats, lngs)\n",
    "\n",
    "# Identify nearest city for each lat, lng combination\n",
    "for lat_lng in lat_lngs:\n",
    "    city = citipy.nearest_city(lat_lng[0], lat_lng[1]).city_name\n",
    "    \n",
    "    # If the city is unique, then add it to a our cities list\n",
    "    if city not in cities:\n",
    "        cities.append(city)\n",
    "\n",
    "# Print the city count to confirm sufficient count\n",
    "len(cities)"
   ]
  },
  {
   "cell_type": "markdown",
   "metadata": {},
   "source": [
    "### Perform API Calls\n",
    "* Perform a weather check on each city using a series of successive API calls.\n",
    "* Include a print log of each city as it'sbeing processed (with the city number and city name).\n"
   ]
  },
  {
   "cell_type": "code",
   "execution_count": null,
   "metadata": {},
   "outputs": [],
   "source": [
    "# call API\n",
    "\n",
    "url=\"http://api.openweathermap.org/data/2.5/weather?\"\n",
    "units=\"Imperial\"\n",
    "query_url=f\"{url}appid={api_key}&q={city}&units={units}\"\n",
    "\n",
    "# print(query_url)"
   ]
  },
  {
   "cell_type": "code",
   "execution_count": null,
   "metadata": {},
   "outputs": [],
   "source": [
    "temp=[]\n",
    "lat=[]\n",
    "lon=[]\n",
    "humidity=[]\n",
    "cloudiness=[]\n",
    "wind_speed=[]\n",
    "country=[]\n",
    "city_dt=[]\n",
    "except_cities=[]\n",
    "\n",
    "\n",
    "# loop through the list of cities and print the information with city number and city name\n",
    "for city in cities:\n",
    "    units=\"Imperial\"\n",
    "    query_url=f\"{url}appid={api_key}&q={city}&units={units}\"\n",
    "#     response=requests.get(query_url+city).json()\n",
    "    \n",
    "    \n",
    "    try:\n",
    "\n",
    "        city_json=requests.get(query_url).json()\n",
    "        city_lat=city_json[\"coord\"][\"lat\"]\n",
    "        city_lon=city_json[\"coord\"][\"lon\"]\n",
    "        city_temp=city_json[\"main\"][\"temp\"]\n",
    "        city_humidity=city_json['main']['humidity']\n",
    "        city_cloudiness=city_json['clouds']['all']\n",
    "        city_wspeed=city_json['wind']['speed']\n",
    "        city_dt=city_json['dt']\n",
    "        country=city_json['sys']['country']\n",
    "        \n",
    "        \n",
    "        \n",
    "        city_lat.append(city_lat)\n",
    "        city_lon.append(city_lon)\n",
    "        city_temp.append(city_temp)\n",
    "        city_humidity.append(city_humidity)\n",
    "        city_cloudiness.append(city_cloudiness)\n",
    "        city_wind_speed.append(city_wspeed)\n",
    "        city_dt.append(city_dt)\n",
    "        country.append(city_country)\n",
    "        \n",
    "\n",
    "    except: \n",
    "        print(f'Request for city {city} failed, Not found')\n",
    "        pass\n",
    "       \n",
    "\n",
    "\n",
    "print(lat)\n",
    "print(lon)\n",
    "print(temp)\n",
    "print(humidity)\n",
    "print(cloudiness)\n",
    "print(wind_speed)\n",
    "print(city_dt)\n",
    "print(country)\n",
    "    \n",
    " \n",
    "print(url)\n",
    "print(api_key)\n",
    "print(city)\n",
    "print(units)\n"
   ]
  },
  {
   "cell_type": "markdown",
   "metadata": {},
   "source": [
    "### Convert Raw Data to DataFrame\n",
    "* Export the city data into a .csv.\n",
    "* Display the DataFrame"
   ]
  },
  {
   "cell_type": "code",
   "execution_count": null,
   "metadata": {},
   "outputs": [],
   "source": [
    "city_weather_df=({\"City\":cities,\n",
    "                \"Latitude\":lat,\n",
    "                \"'Longtitude\":lon,\n",
    "                \"Temperature in F\":temp,\n",
    "                \"Humidity\":humidity,\n",
    "                \"Clouds\":cloudiness,\n",
    "                \"Wind Speed\":wind_speed,\n",
    "                \"Date\":dt,\n",
    "                \"Country\":country})\n",
    "                             \n",
    "\n",
    "city_weather_df.head()"
   ]
  },
  {
   "cell_type": "code",
   "execution_count": null,
   "metadata": {},
   "outputs": [],
   "source": [
    "# city_weather_df.to_csv()"
   ]
  },
  {
   "cell_type": "markdown",
   "metadata": {},
   "source": [
    "### Plotting the Data\n",
    "* Use proper labeling of the plots using plot titles (including date of analysis) and axes labels.\n",
    "* Save the plotted figures as .pngs."
   ]
  },
  {
   "cell_type": "markdown",
   "metadata": {},
   "source": [
    "#### Latitude vs. Temperature Plot"
   ]
  },
  {
   "cell_type": "code",
   "execution_count": null,
   "metadata": {},
   "outputs": [],
   "source": [
    "# Build a scatter plot for each data type\n",
    "plt.scatter(city_weather_df[\"lat\"],city_weather_df[\"temp\"],marker=\"0\")\n",
    "\n",
    "# Incorporate the other graph properties\n",
    "plt.title(\"Temperature in World Cities\")\n",
    "plt.ylabel(\"Temperature (F)\")\n",
    "plt.xlabel(\"Latitude\")\n",
    "plt.grid(True)\n",
    "\n",
    "# Save the figure\n",
    "plt.savefig(\"temp_vs_lat.png\")\n",
    "\n",
    "# Show plot\n",
    "plt.show()"
   ]
  },
  {
   "cell_type": "markdown",
   "metadata": {},
   "source": [
    "#### Latitude vs. Humidity Plot"
   ]
  },
  {
   "cell_type": "code",
   "execution_count": null,
   "metadata": {},
   "outputs": [],
   "source": [
    "# Build a scatter plot for each data type\n",
    "plt.scatter(city_weather_df[\"lat\"],city_weather_df[\"humidity\"],marker=\"0\")\n",
    "\n",
    "# Incorporate the other graph properties\n",
    "plt.title(\"Temperature in World Cities\")\n",
    "plt.ylabel(\"Temperature (F)\")\n",
    "plt.xlabel(\"Humidity\")\n",
    "plt.grid(True)\n",
    "\n",
    "# Save the figure\n",
    "plt.savefig(\"humidity_vs_lat.png\")\n",
    "\n",
    "# Show plot\n",
    "plt.show()"
   ]
  },
  {
   "cell_type": "markdown",
   "metadata": {},
   "source": [
    "#### Latitude vs. Cloudiness Plot"
   ]
  },
  {
   "cell_type": "code",
   "execution_count": null,
   "metadata": {},
   "outputs": [],
   "source": [
    "# Build a scatter plot for each data type\n",
    "plt.scatter(city_weather_df[\"lat\"],city_weather_df[\"clouds\"],marker=\"0\")\n",
    "\n",
    "# Incorporate the other graph properties\n",
    "plt.title(\"Temperature in World Cities\")\n",
    "plt.ylabel(\"Temperature (F)\")\n",
    "plt.xlabel(\"Cloudiness\")\n",
    "plt.grid(True)\n",
    "\n",
    "# Save the figure\n",
    "plt.savefig(\"clouds_vs_lat.png\")\n",
    "\n",
    "# Show plot\n",
    "plt.show()"
   ]
  },
  {
   "cell_type": "markdown",
   "metadata": {},
   "source": [
    "#### Latitude vs. Wind Speed Plot"
   ]
  },
  {
   "cell_type": "code",
   "execution_count": null,
   "metadata": {},
   "outputs": [],
   "source": [
    "# Build a scatter plot for each data type\n",
    "plt.scatter(city_weather_df[\"lat\"],city_weather_df[\"clouds\"],marker=\"0\")\n",
    "\n",
    "# Incorporate the other graph properties\n",
    "plt.title(\"Temperature in World Cities\")\n",
    "plt.ylabel(\"Temperature (F)\")\n",
    "plt.xlabel(\"Cloudiness\")\n",
    "plt.grid(True)\n",
    "\n",
    "# Save the figure\n",
    "plt.savefig(\"clouds_vs_lat.png\")\n",
    "\n",
    "# Show plot\n",
    "plt.show()"
   ]
  }
 ],
 "metadata": {
  "anaconda-cloud": {},
  "kernel_info": {
   "name": "python3"
  },
  "kernelspec": {
   "display_name": "Python 3",
   "language": "python",
   "name": "python3"
  },
  "language_info": {
   "codemirror_mode": {
    "name": "ipython",
    "version": 3
   },
   "file_extension": ".py",
   "mimetype": "text/x-python",
   "name": "python",
   "nbconvert_exporter": "python",
   "pygments_lexer": "ipython3",
   "version": "3.7.4"
  },
  "nteract": {
   "version": "0.12.3"
  }
 },
 "nbformat": 4,
 "nbformat_minor": 2
}
