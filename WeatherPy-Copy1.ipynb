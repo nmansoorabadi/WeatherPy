{
 "cells": [
  {
   "cell_type": "markdown",
   "metadata": {},
   "source": [
    "# WeatherPy\n",
    "----\n",
    "\n",
    "#### Note\n",
    "* Instructions have been included for each segment. You do not have to follow them exactly, but they are included to help you think through the steps."
   ]
  },
  {
   "cell_type": "code",
   "execution_count": 1,
   "metadata": {
    "scrolled": true
   },
   "outputs": [],
   "source": [
    "# Dependencies and Setup\n",
    "import matplotlib.pyplot as plt\n",
    "import pandas as pd\n",
    "import numpy as np\n",
    "import requests\n",
    "import time\n",
    "import json\n",
    "from pprint import pprint\n",
    "import os\n",
    "\n",
    "\n",
    "\n",
    "# Import API key\n",
    "from api_keys import api_key\n",
    "\n",
    "# Incorporated citipy to determine city based on latitude and longitude\n",
    "from citipy import citipy\n",
    "\n",
    "# Output File (CSV)\n",
    "output_data_file = \"output_data/cities.csv\"\n",
    "# Range of latitudes and longitudes\n",
    "lat_range = (-90, 90)\n",
    "lng_range = (-180, 180)\n"
   ]
  },
  {
   "cell_type": "code",
   "execution_count": null,
   "metadata": {},
   "outputs": [],
   "source": []
  },
  {
   "cell_type": "markdown",
   "metadata": {},
   "source": [
    "## Generate Cities List"
   ]
  },
  {
   "cell_type": "code",
   "execution_count": 2,
   "metadata": {},
   "outputs": [
    {
     "data": {
      "text/plain": [
       "625"
      ]
     },
     "execution_count": 2,
     "metadata": {},
     "output_type": "execute_result"
    }
   ],
   "source": [
    "# List for holding lat_lngs and cities\n",
    "lat_lngs = []\n",
    "cities = []\n",
    "\n",
    "# Create a set of random lat and lng combinations\n",
    "lats = np.random.uniform(low=-90.000, high=90.000, size=1500)\n",
    "lngs = np.random.uniform(low=-180.000, high=180.000, size=1500)\n",
    "lat_lngs = zip(lats, lngs)\n",
    "\n",
    "# Identify nearest city for each lat, lng combination\n",
    "for lat_lng in lat_lngs:\n",
    "    city = citipy.nearest_city(lat_lng[0], lat_lng[1]).city_name\n",
    "    \n",
    "    # If the city is unique, then add it to a our cities list\n",
    "    if city not in cities:\n",
    "        cities.append(city)\n",
    "\n",
    "# Print the city count to confirm sufficient count\n",
    "len(cities)"
   ]
  },
  {
   "cell_type": "markdown",
   "metadata": {},
   "source": [
    "### Perform API Calls\n",
    "* Perform a weather check on each city using a series of successive API calls.\n",
    "* Include a print log of each city as it'sbeing processed (with the city number and city name).\n"
   ]
  },
  {
   "cell_type": "code",
   "execution_count": 3,
   "metadata": {},
   "outputs": [
    {
     "name": "stdout",
     "output_type": "stream",
     "text": [
      "http://api.openweathermap.org/data/2.5/weather?appid=1770dd0294595c6022e897f6719628b2&units=Imperial&q=talnakh\n"
     ]
    }
   ],
   "source": [
    "# call API\n",
    "\n",
    "url=\"http://api.openweathermap.org/data/2.5/weather?\"\n",
    "units=\"Imperial\"\n",
    "query_url=f\"{url}appid={api_key}&units={units}&q={city}\"\n",
    "print(query_url)\n"
   ]
  },
  {
   "cell_type": "code",
   "execution_count": 4,
   "metadata": {},
   "outputs": [],
   "source": [
    "my_cities=[]"
   ]
  },
  {
   "cell_type": "code",
   "execution_count": 5,
   "metadata": {},
   "outputs": [],
   "source": [
    "\n",
    "url = \"http://api.openweathermap.org/data/2.5/weather?units=Imperial&APPID=\" + api_key \n",
    "\n",
    "# List of city data\n",
    "city_weather=[]\n",
    "lat=[]\n",
    "lon=[]\n",
    "temp=[]\n",
    "humidity=[]\n",
    "wind_speed=[]\n",
    "country=[]\n",
    "date=[]\n",
    "cloudiness=[]\n",
    "\n",
    "for city in cities:\n",
    "\n",
    "    city_url = url + \"&q=\" + city\n",
    "    try:\n",
    "            # Parse the JSON and retrieve data\n",
    "            city_weather = requests.get(city_url).json()\n",
    "\n",
    "            # Parse out the max temp, humidity, and cloudiness\n",
    "            city_lat=city_weather[\"coord\"][\"lat\"]\n",
    "            city_lng=city_weather[\"coord\"][\"lon\"]\n",
    "            city_temp=city_weather[\"main\"][\"max\"]\n",
    "            city_humidity=city_weather[\"main\"][\"humidity\"]\n",
    "            city_clouds=city_weather[\"clouds\"][\"all\"]\n",
    "            city_wind=city_weather[\"wind\"][\"speed\"]\n",
    "            city_country=city_weather[\"sys\"][\"country\"]\n",
    "            city_date=city_weather[\"dt\"]\n",
    "\n",
    "            \n",
    "            lat.append(city_lat)\n",
    "            lon.append(city_lng)\n",
    "            temp.append(city_temp)\n",
    "            humidity.append(city_humidity)\n",
    "            cloudiness.append(city_clouds)\n",
    "            wind_speed.append(city_wind)\n",
    "            country.append(city_country)\n",
    "            \n",
    "            # Append the City information into city_data list\n",
    "#             city_weather.append({\"City\":city, \n",
    "#                               \"Lat\":city_lat, \n",
    "#                               \"Lng\":city_lng, \n",
    "#                               \"Temp\":city_temp,\n",
    "#                               \"Humidity\":city_humidity,\n",
    "#                               \"Cloudiness\":city_clouds,\n",
    "#                               \"Wind Speed\":city_wind,\n",
    "#                               \"Country\":city_country})\n",
    "\n",
    "    except:\n",
    "        pass"
   ]
  },
  {
   "cell_type": "code",
   "execution_count": 6,
   "metadata": {},
   "outputs": [
    {
     "name": "stdout",
     "output_type": "stream",
     "text": [
      "{'cod': 429, 'message': 'Your account is temporary blocked due to exceeding of requests limitation of your subscription type. Please choose the proper subscription http://openweathermap.org/price'}\n"
     ]
    }
   ],
   "source": [
    "print(city_weather)"
   ]
  },
  {
   "cell_type": "code",
   "execution_count": 12,
   "metadata": {},
   "outputs": [],
   "source": [
    "city_weather_df=pd.DataFrame({'City':cities, \n",
    "                              'Lat':lat, \n",
    "                              'Lng':lon, \n",
    "                              'Temp':temp,\n",
    "                              'Humidity':humidity,\n",
    "                              'Cloudiness':cloudiness,\n",
    "                              'Wind Speed':wind_speed,\n",
    "                              'Country':country})\n",
    "city_weather_df()"
   ]
  },
  {
   "cell_type": "code",
   "execution_count": null,
   "metadata": {},
   "outputs": [],
   "source": [
    "\n",
    "# url = \"http://api.openweathermap.org/data/2.5/weather?units=Imperial&APPID=\" + api_key \n",
    "\n",
    "# # List of city data\n",
    "# city_data = []\n",
    "# Lat=[]\n",
    "# Lng=[]\n",
    "# Temp=[]\n",
    "\n",
    "\n",
    "# for city in cities:\n",
    "\n",
    "#     city_url = url + \"&q=\" + city\n",
    "#     try:\n",
    "#             # Parse the JSON and retrieve data\n",
    "#             city_weather = requests.get(city_url).json()\n",
    "\n",
    "#             # Parse out the max temp, humidity, and cloudiness\n",
    "#             city_lat = city_weather[\"coord\"][\"lat\"]\n",
    "#             city_lng = city_weather[\"coord\"][\"lon\"]\n",
    "#             city_temp = city_weather[\"main\"][\"max\"]\n",
    "#             city_humidity = city_weather[\"main\"][\"humidity\"]\n",
    "#             city_clouds = city_weather[\"clouds\"][\"all\"]\n",
    "#             city_wind = city_weather[\"wind\"][\"speed\"]\n",
    "#             city_country = city_weather[\"sys\"][\"country\"]\n",
    "#             city_date = city_weather[\"dt\"]\n",
    "\n",
    "            \n",
    "            \n",
    "#             # Append the City information into city_data list\n",
    "#             city_data.append({\"City\": city, \n",
    "#                               \"Lat\": city_lat, \n",
    "#                               \"Lng\": city_lng, \n",
    "#                               \"Temp\": city_temp,\n",
    "#                               \"Humidity\": city_humidity,\n",
    "#                               \"Cloudiness\": city_clouds,\n",
    "#                               \"Wind Speed\": city_wind,\n",
    "#                               \"Country\": city_country})\n",
    "\n",
    "#     except:\n",
    "        pass"
   ]
  },
  {
   "cell_type": "code",
   "execution_count": null,
   "metadata": {},
   "outputs": [],
   "source": [
    "print(city_weather)"
   ]
  },
  {
   "cell_type": "markdown",
   "metadata": {},
   "source": [
    "### Convert Raw Data to DataFrame\n",
    "* Export the city data into a .csv.\n",
    "* Display the DataFrame"
   ]
  },
  {
   "cell_type": "code",
   "execution_count": null,
   "metadata": {},
   "outputs": [],
   "source": [
    "city_weather_df=pd.DataFrame(city_weather)\n",
    "\n",
    "city_weather_df.head()"
   ]
  },
  {
   "cell_type": "code",
   "execution_count": null,
   "metadata": {},
   "outputs": [],
   "source": [
    "# city_data_df.to_csv()"
   ]
  },
  {
   "cell_type": "markdown",
   "metadata": {},
   "source": [
    "### Plotting the Data\n",
    "* Use proper labeling of the plots using plot titles (including date of analysis) and axes labels.\n",
    "* Save the plotted figures as .pngs."
   ]
  },
  {
   "cell_type": "markdown",
   "metadata": {},
   "source": [
    "#### Latitude vs. Temperature Plot"
   ]
  },
  {
   "cell_type": "code",
   "execution_count": null,
   "metadata": {},
   "outputs": [],
   "source": [
    "# Build a scatter plot for each data type\n",
    "plt.scatter(city_data_df[\"city_lat\"],city_weather_df[\"city_temp\"],marker=\"0\")\n",
    "\n",
    "# Incorporate the other graph properties\n",
    "plt.title(\"Temperature in World Cities\")\n",
    "plt.ylabel(\"Temperature (F)\")\n",
    "plt.xlabel(\"Latitude\")\n",
    "plt.grid(True)\n",
    "\n",
    "# Save the figure\n",
    "plt.savefig(\"temp_vs_lat.png\")\n",
    "\n",
    "# Show plot\n",
    "plt.show()"
   ]
  },
  {
   "cell_type": "markdown",
   "metadata": {},
   "source": [
    "#### Latitude vs. Humidity Plot"
   ]
  },
  {
   "cell_type": "code",
   "execution_count": null,
   "metadata": {},
   "outputs": [],
   "source": [
    "# Build a scatter plot for each data type\n",
    "plt.scatter(city_weather_df[\"lat\"],city_weather_df[\"humidity\"],marker=\"0\")\n",
    "\n",
    "# Incorporate the other graph properties\n",
    "plt.title(\"Temperature in World Cities\")\n",
    "plt.ylabel(\"Temperature (F)\")\n",
    "plt.xlabel(\"Humidity\")\n",
    "plt.grid(True)\n",
    "\n",
    "# Save the figure\n",
    "plt.savefig(\"humidity_vs_lat.png\")\n",
    "\n",
    "# Show plot\n",
    "plt.show()"
   ]
  },
  {
   "cell_type": "markdown",
   "metadata": {},
   "source": [
    "#### Latitude vs. Cloudiness Plot"
   ]
  },
  {
   "cell_type": "code",
   "execution_count": null,
   "metadata": {},
   "outputs": [],
   "source": [
    "# Build a scatter plot for each data type\n",
    "plt.scatter(city_weather_df[\"lat\"],city_weather_df[\"clouds\"],marker=\"0\")\n",
    "\n",
    "# Incorporate the other graph properties\n",
    "plt.title(\"Temperature in World Cities\")\n",
    "plt.ylabel(\"Temperature (F)\")\n",
    "plt.xlabel(\"Cloudiness\")\n",
    "plt.grid(True)\n",
    "\n",
    "# Save the figure\n",
    "plt.savefig(\"clouds_vs_lat.png\")\n",
    "\n",
    "# Show plot\n",
    "plt.show()"
   ]
  },
  {
   "cell_type": "markdown",
   "metadata": {},
   "source": [
    "#### Latitude vs. Wind Speed Plot"
   ]
  },
  {
   "cell_type": "code",
   "execution_count": null,
   "metadata": {},
   "outputs": [],
   "source": [
    "# Build a scatter plot for each data type\n",
    "plt.scatter(city_weather_df[\"lat\"],city_weather_df[\"wind_speed\"],marker=\"0\")\n",
    "\n",
    "# Incorporate the other graph properties\n",
    "plt.title(\"Temperature in World Cities\")\n",
    "plt.ylabel(\"Temperature (F)\")\n",
    "plt.xlabel(\"Cloudiness\")\n",
    "plt.grid(True)\n",
    "\n",
    "# Save the figure\n",
    "plt.savefig(\"clouds_vs_lat.png\")\n",
    "\n",
    "# Show plot\n",
    "plt.show()"
   ]
  }
 ],
 "metadata": {
  "anaconda-cloud": {},
  "kernel_info": {
   "name": "python3"
  },
  "kernelspec": {
   "display_name": "Python 3",
   "language": "python",
   "name": "python3"
  },
  "language_info": {
   "codemirror_mode": {
    "name": "ipython",
    "version": 3
   },
   "file_extension": ".py",
   "mimetype": "text/x-python",
   "name": "python",
   "nbconvert_exporter": "python",
   "pygments_lexer": "ipython3",
   "version": "3.7.4"
  },
  "nteract": {
   "version": "0.12.3"
  }
 },
 "nbformat": 4,
 "nbformat_minor": 2
}
